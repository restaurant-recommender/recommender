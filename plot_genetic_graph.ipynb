{
 "cells": [
  {
   "cell_type": "code",
   "execution_count": 1,
   "id": "dressed-suicide",
   "metadata": {},
   "outputs": [],
   "source": [
    "from recommender.genetic_algorithm_recommender import test_genetic_algorithm_recommender"
   ]
  },
  {
   "cell_type": "code",
   "execution_count": 2,
   "id": "fluid-surfing",
   "metadata": {},
   "outputs": [
    {
     "name": "stdout",
     "output_type": "stream",
     "text": [
      "Gen#1: (59, [42, 25, 52, 37, 8, 53])\n",
      "Gen#2: (64, [8, 42, 52, 7, 80, 26])\n",
      "Gen#3: (64, [80, 26, 7, 46, 59, 68])\n",
      "Gen#4: (66, [80, 42, 26, 60, 68, 41])\n",
      "Gen#5: (66, [80, 45, 76, 58, 68, 7])\n",
      "Gen#6: (66, [80, 45, 76, 58, 68, 7])\n",
      "Gen#7: (66, [80, 58, 7, 60, 68, 41])\n",
      "Gen#8: (66, [80, 42, 1, 7, 68, 26])\n",
      "Gen#9: (66, [80, 60, 45, 58, 68, 26])\n",
      "Gen#10: (66, [80, 58, 76, 7, 68, 26])\n",
      "Gen#11: (66, [80, 42, 1, 58, 68, 26])\n",
      "Gen#12: (66, [76, 60, 45, 58, 37, 68])\n",
      "Gen#13: (66, [76, 41, 45, 58, 80, 68])\n",
      "Gen#14: (66, [76, 60, 45, 58, 37, 68])\n",
      "Gen#15: (66, [76, 58, 45, 26, 37, 68])\n",
      "Gen#16: (66, [76, 45, 1, 58, 80, 68])\n",
      "Gen#17: (66, [76, 60, 1, 58, 68, 7])\n",
      "Gen#18: (66, [76, 45, 1, 58, 68, 7])\n",
      "Result: (66, [76, 45, 1, 58, 68, 7])\n",
      "[('Foodhubb อาหารอร่อยเยอะบึ้ม สยามสแควร์', ['Restaurant', 'Local Service']),\n",
      " ('เพลินวานพาณิชย์', ['Restaurant']),\n",
      " ('Cheese Owl', ['Korean', 'Buffet', 'Chef']),\n",
      " ('Thai Thai Boat Noodles', ['Thai', 'Noodle']),\n",
      " ('เป็ดอินดี้ เตี๋ยวเป็ด ต้มเป็ด ข้าวเป็ด', ['Thai']),\n",
      " ('Hongdae Buffet', ['Korean'])]\n"
     ]
    }
   ],
   "source": [
    "restaurants, generations = test_genetic_algorithm_recommender()"
   ]
  },
  {
   "cell_type": "code",
   "execution_count": 3,
   "id": "expected-upgrade",
   "metadata": {},
   "outputs": [
    {
     "data": {
      "text/plain": [
       "[(59, [42, 25, 52, 37, 8, 53]),\n",
       " (64, [8, 42, 52, 7, 80, 26]),\n",
       " (64, [80, 26, 7, 46, 59, 68]),\n",
       " (66, [80, 42, 26, 60, 68, 41]),\n",
       " (66, [80, 45, 76, 58, 68, 7]),\n",
       " (66, [80, 45, 76, 58, 68, 7]),\n",
       " (66, [80, 58, 7, 60, 68, 41]),\n",
       " (66, [80, 42, 1, 7, 68, 26]),\n",
       " (66, [80, 60, 45, 58, 68, 26]),\n",
       " (66, [80, 58, 76, 7, 68, 26]),\n",
       " (66, [80, 42, 1, 58, 68, 26]),\n",
       " (66, [76, 60, 45, 58, 37, 68]),\n",
       " (66, [76, 41, 45, 58, 80, 68]),\n",
       " (66, [76, 60, 45, 58, 37, 68]),\n",
       " (66, [76, 58, 45, 26, 37, 68]),\n",
       " (66, [76, 45, 1, 58, 80, 68]),\n",
       " (66, [76, 60, 1, 58, 68, 7]),\n",
       " (66, [76, 45, 1, 58, 68, 7])]"
      ]
     },
     "execution_count": 3,
     "metadata": {},
     "output_type": "execute_result"
    }
   ],
   "source": [
    "generations"
   ]
  },
  {
   "cell_type": "code",
   "execution_count": 3,
   "id": "satellite-vegetable",
   "metadata": {},
   "outputs": [],
   "source": [
    "import matplotlib.pyplot as plt "
   ]
  },
  {
   "cell_type": "code",
   "execution_count": 11,
   "id": "painful-montana",
   "metadata": {},
   "outputs": [],
   "source": [
    "x = range(20)\n",
    "y = [x[0] for x in generations] + [generations[-1][0] for _ in range(20 - len(generations))]"
   ]
  },
  {
   "cell_type": "code",
   "execution_count": 14,
   "id": "fiscal-department",
   "metadata": {},
   "outputs": [
    {
     "data": {
      "image/png": "[encoded data removed]",
      "text/plain": [
       "<Figure size 432x288 with 1 Axes>"
      ]
     },
     "metadata": {
      "needs_background": "light"
     },
     "output_type": "display_data"
    }
   ],
   "source": [
    "plt.plot(x, y, label='1') \n",
    "plt.plot(x, y, label='2') \n",
    "plt.show()"
   ]
  },
  {
   "cell_type": "code",
   "execution_count": 6,
   "id": "cardiovascular-charles",
   "metadata": {
    "scrolled": true,
    "tags": []
   },
   "outputs": [
    {
     "data": {
      "image/png": "[encoded data removed]",
      "text/plain": [
       "<Figure size 432x288 with 1 Axes>"
      ]
     },
     "metadata": {
      "needs_background": "light"
     },
     "output_type": "display_data"
    }
   ],
   "source": [
    "generation_count = 20\n",
    "trials = 10\n",
    "x = range(generation_count)\n",
    "for count in range(trials):\n",
    "    _, generations = test_genetic_algorithm_recommender()\n",
    "    y = [x[0] for x in generations] + [generations[-1][0] for _ in range(generation_count - len(generations))]\n",
    "    plt.plot(x, y, label=f'{count}', alpha=0.5)\n",
    "plt.show()"
   ]
  },
  {
   "cell_type": "code",
   "execution_count": 17,
   "id": "thorough-genesis",
   "metadata": {},
   "outputs": [],
   "source": []
  },
  {
   "cell_type": "code",
   "execution_count": null,
   "id": "leading-pasta",
   "metadata": {},
   "outputs": [],
   "source": []
  }
 ],
 "metadata": {
  "kernelspec": {
   "display_name": "Python 3",
   "language": "python",
   "name": "python3"
  },
  "language_info": {
   "codemirror_mode": {
    "name": "ipython",
    "version": 3
   },
   "file_extension": ".py",
   "mimetype": "text/x-python",
   "name": "python",
   "nbconvert_exporter": "python",
   "pygments_lexer": "ipython3",
   "version": "3.9.1"
  }
 },
 "nbformat": 4,
 "nbformat_minor": 5
}
